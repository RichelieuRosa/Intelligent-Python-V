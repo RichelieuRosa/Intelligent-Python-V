{
 "cells": [
  {
   "cell_type": "markdown",
   "metadata": {},
   "source": [
    "# Numpy"
   ]
  },
  {
   "cell_type": "code",
   "execution_count": null,
   "metadata": {},
   "outputs": [],
   "source": [
    "import numpy as np"
   ]
  },
  {
   "cell_type": "code",
   "execution_count": 5,
   "metadata": {},
   "outputs": [
    {
     "name": "stdout",
     "output_type": "stream",
     "text": [
      "arr_from_list =  [1 2 3 4 5]\n",
      "arr_from_tuple =  [1 2 3 4 5]\n",
      "type(arr_from_list) =  <class 'numpy.ndarray'>\n",
      "type(arr_from_tuple) =  <class 'numpy.ndarray'>\n"
     ]
    }
   ],
   "source": [
    "def create_ndarray_object():\n",
    "    arr_from_list = np.array([1,2,3,4,5])\n",
    "    arr_from_tuple = np.array((1,2,3,4,5))\n",
    "    print(\"arr_from_list = \",arr_from_list)\n",
    "    print(\"arr_from_tuple = \",arr_from_tuple)\n",
    "    print(\"type(arr_from_list) = \",type(arr_from_list))\n",
    "    print(\"type(arr_from_tuple) = \",type(arr_from_tuple))\n",
    "    \n",
    "create_ndarray_object()"
   ]
  },
  {
   "cell_type": "code",
   "execution_count": 7,
   "metadata": {},
   "outputs": [
    {
     "name": "stdout",
     "output_type": "stream",
     "text": [
      "arr_0D =  5\n",
      "arr_1D =  [1 2 3 4 5]\n",
      "arr_2D =  [[1 2 3]\n",
      " [4 5 6]]\n",
      "Demension of arr_0D =  0\n",
      "Demension of arr_1D =  1\n",
      "Demension of arr_2D =  2\n"
     ]
    }
   ],
   "source": [
    "def dimensions_in_arrays():\n",
    "    arr_0D = np.array(5)\n",
    "    arr_1D = np.array([1,2,3,4,5])\n",
    "    arr_2D = np.array([[1,2,3],[4,5,6]])\n",
    "    print(\"arr_0D = \", arr_0D)\n",
    "    print(\"arr_1D = \", arr_1D)\n",
    "    print(\"arr_2D = \", arr_2D)\n",
    "    \n",
    "    print(\"Demension of arr_0D = \",arr_0D.ndim)\n",
    "    print(\"Demension of arr_1D = \",arr_1D.ndim)\n",
    "    print(\"Demension of arr_2D = \",arr_2D.ndim)\n",
    "\n",
    "dimensions_in_arrays()"
   ]
  },
  {
   "cell_type": "code",
   "execution_count": 8,
   "metadata": {},
   "outputs": [
    {
     "name": "stdout",
     "output_type": "stream",
     "text": [
      "1st element =  1\n",
      "2nd element on 1st dimension =  9\n",
      "Slice lements from index 1 to index 5 =  [2 3 4 5]\n",
      "Slice lements from index 3 to the end =  [ 4  5  6  7  8  9 10]\n",
      "Use the step value to return every other element from index 1 to index 5 =  [2 4]\n",
      "Return every other element from the entire array:  [1 3 5 7 9]\n",
      "Slice index 1 to index 4 (not incluede)from the second element [7 8 9]\n",
      "From both elements, return index 2:  [3 8]\n",
      "From both elements, slice index 1 to index 4 (not included):  [[2 3 4]\n",
      " [7 8 9]]\n"
     ]
    }
   ],
   "source": [
    "def indexing_and_slicing():\n",
    "    arr_1D = np.array([1,2,3,4])\n",
    "    arr_2D = np.array([[1,2,3,4,5],[6,7,8,9,10]])\n",
    "    print(\"1st element = \", arr_1D[0])\n",
    "    print(\"2nd element on 1st dimension = \", arr_2D[1,3])\n",
    "    \n",
    "    #1-D Array\n",
    "    arr_1D = np.array([1,2,3,4,5,6,7,8,9,10])\n",
    "    print(\"Slice lements from index 1 to index 5 = \", arr_1D[1:5])\n",
    "    print(\"Slice lements from index 3 to the end = \", arr_1D[3:])\n",
    "    print(\"Use the step value to return every other element from index 1 to index 5 = \", arr_1D[1:5:2])\n",
    "    print(\"Return every other element from the entire array: \", arr_1D[::2])\n",
    "    \n",
    "    #2-D Array\n",
    "    arr_2D = np.array([[1,2,3,4,5],[6,7,8,9,10]])\n",
    "    print(\"Slice index 1 to index 4 (not incluede)from the second element\", arr_2D[1,1:4])\n",
    "    print(\"From both elements, return index 2: \", arr_2D[0:2,2])\n",
    "    print(\"From both elements, slice index 1 to index 4 (not included): \",arr_2D[0:2,1:4])\n",
    "    \n",
    "indexing_and_slicing()"
   ]
  },
  {
   "cell_type": "code",
   "execution_count": 9,
   "metadata": {},
   "outputs": [
    {
     "name": "stdout",
     "output_type": "stream",
     "text": [
      "int64\n",
      "<U6\n"
     ]
    }
   ],
   "source": [
    "def checking():\n",
    "    arr_integer = np.array([1,2,3,4])\n",
    "    arr_string = np.array(['apple','bnana','cherry'])\n",
    "    \n",
    "    print(arr_integer.dtype)\n",
    "    print(arr_string.dtype)\n",
    "    \n",
    "checking()"
   ]
  },
  {
   "cell_type": "code",
   "execution_count": 11,
   "metadata": {},
   "outputs": [
    {
     "name": "stdout",
     "output_type": "stream",
     "text": [
      "[b'1' b'2' b'3' b'4']\n",
      "|S1\n",
      "[1 2 3 4]\n",
      "int32\n"
     ]
    }
   ],
   "source": [
    "def creating():\n",
    "    #Create an array with data type string:\n",
    "    arr_S = np.array([1,2,3,4], dtype='S')\n",
    "    \n",
    "    #Create an array with data type 4 bytes integer:\n",
    "    arr_i4 = np.array([1,2,3,4],dtype='i4')\n",
    "    \n",
    "    print(arr_S)\n",
    "    print(arr_S.dtype)\n",
    "    print(arr_i4)\n",
    "    print(arr_i4.dtype)\n",
    "    \n",
    "creating()"
   ]
  },
  {
   "cell_type": "code",
   "execution_count": 13,
   "metadata": {},
   "outputs": [
    {
     "name": "stdout",
     "output_type": "stream",
     "text": [
      "[1 2 3]\n",
      "int32\n",
      "[1 2 3]\n",
      "int64\n",
      "[ True False  True]\n",
      "bool\n"
     ]
    }
   ],
   "source": [
    "def converting_datatype():\n",
    "    arr1 = np.array([1.1,2.1,3.1])\n",
    "    #Change data type from float to integer by using 'i' as parameter value:\n",
    "    newarr11 = arr1.astype('i')\n",
    "    #Change data type from float to integer by using int as parameter value:\n",
    "    newarr12 = arr1.astype(int)\n",
    "\n",
    "    #Change data type from integer to boolean:\n",
    "    arr2 = np.array([1,0,3])\n",
    "    newarr2 = arr2.astype(bool)\n",
    "    \n",
    "    print(newarr11)\n",
    "    print(newarr11.dtype)\n",
    "    print(newarr12)\n",
    "    print(newarr12.dtype)\n",
    "    print(newarr2)\n",
    "    print(newarr2.dtype)\n",
    "\n",
    "converting_datatype()"
   ]
  },
  {
   "cell_type": "code",
   "execution_count": 14,
   "metadata": {},
   "outputs": [
    {
     "name": "stdout",
     "output_type": "stream",
     "text": [
      "Original array:  [10  2  3  4  5]\n",
      "Copy array:  [1 2 3 4 5]\n"
     ]
    }
   ],
   "source": [
    "def copy_function():\n",
    "    arr = np.array([1,2,3,4,5])\n",
    "    arr_copy = arr.copy()\n",
    "    arr[0] = 10\n",
    "    \n",
    "    print(\"Original array: \", arr)\n",
    "    print(\"Copy array: \", arr_copy)\n",
    "\n",
    "copy_function()"
   ]
  },
  {
   "cell_type": "code",
   "execution_count": 15,
   "metadata": {},
   "outputs": [
    {
     "name": "stdout",
     "output_type": "stream",
     "text": [
      "Shape of array =  (2, 4)\n"
     ]
    }
   ],
   "source": [
    "def shape_function():\n",
    "    arr = np.array([[1,2,3,4],[5,6,7,8]])\n",
    "    print(\"Shape of array = \", arr.shape)\n",
    "    \n",
    "shape_function()"
   ]
  },
  {
   "cell_type": "code",
   "execution_count": 17,
   "metadata": {},
   "outputs": [
    {
     "name": "stdout",
     "output_type": "stream",
     "text": [
      "[[ 1  2  3]\n",
      " [ 4  5  6]\n",
      " [ 7  8  9]\n",
      " [10 11 12]]\n"
     ]
    }
   ],
   "source": [
    "def reshape_function():\n",
    "    arr = np.array([1,2,3,4,5,6,7,8,9,10,11,12])\n",
    "    newarr = arr.reshape(4,3)\n",
    "    print(newarr)\n",
    "\n",
    "reshape_function()"
   ]
  },
  {
   "cell_type": "code",
   "execution_count": 18,
   "metadata": {},
   "outputs": [
    {
     "name": "stdout",
     "output_type": "stream",
     "text": [
      "Method 1:\n",
      "1\n",
      "2\n",
      "3\n",
      "4\n",
      "5\n",
      "6\n",
      "-----\n",
      "Method 2:\n",
      "1\n",
      "2\n",
      "3\n",
      "4\n",
      "5\n",
      "6\n",
      "(0, 0) 1\n",
      "(0, 1) 2\n",
      "(0, 2) 3\n",
      "(1, 0) 4\n",
      "(1, 1) 5\n",
      "(1, 2) 6\n"
     ]
    }
   ],
   "source": [
    "def interating():\n",
    "    \n",
    "    arr = np.array([[1,2,3],[4,5,6]])\n",
    "    \n",
    "    print(\"Method 1:\")\n",
    "    for x in arr:\n",
    "        for y in x:\n",
    "            print(y)\n",
    "            \n",
    "    print(\"-----\")\n",
    "    print(\"Method 2:\")\n",
    "    for x in np.nditer(arr):\n",
    "        print(x)\n",
    "    for idx,x in np.ndenumerate(arr):\n",
    "        print(idx,x)\n",
    "        \n",
    "interating()"
   ]
  },
  {
   "cell_type": "code",
   "execution_count": 20,
   "metadata": {},
   "outputs": [
    {
     "name": "stdout",
     "output_type": "stream",
     "text": [
      "1-D array\n",
      "[1 2 3 4 5 6]\n",
      "-----\n",
      "2-D array\n",
      "[[1 2 5 6]\n",
      " [3 4 7 8]]\n",
      "stack()\n",
      "Stacking Along Rows: hstack()\n",
      "[1 2 3 4 5 6]\n",
      "Stacking Along Columns: vstack()\n",
      "[[1 2 3]\n",
      " [4 5 6]]\n",
      "Stack Along Height(depth): dstack()\n",
      "[[[1 4]\n",
      "  [2 5]\n",
      "  [3 6]]]\n"
     ]
    }
   ],
   "source": [
    "def join_function():\n",
    "    print(\"1-D array\")\n",
    "    arr1 = np.array([1,2,3])\n",
    "    arr2 = np.array([4,5,6])\n",
    "    arr = np.concatenate((arr1,arr2))\n",
    "    print(arr)\n",
    "    \n",
    "    print(\"-----\")\n",
    "    print(\"2-D array\")\n",
    "    arr1 = np.array([[1,2],[3,4]])\n",
    "    arr2 = np.array([[5,6],[7,8]])\n",
    "    arr = np.concatenate((arr1,arr2),axis=1)\n",
    "    print(arr)\n",
    "    \n",
    "    print(\"stack()\")\n",
    "    arr1 = np.array([1,2,3])\n",
    "    arr2 = np.array([4,5,6])\n",
    "    arr = np.stack((arr1,arr2),axis=1)\n",
    "    \n",
    "    print(\"Stacking Along Rows: hstack()\")\n",
    "    arr = np.hstack((arr1,arr2))\n",
    "    print(arr)\n",
    "    \n",
    "    print(\"Stacking Along Columns: vstack()\")\n",
    "    arr = np.vstack((arr1,arr2))\n",
    "    print(arr)\n",
    "    \n",
    "    print(\"Stack Along Height(depth): dstack()\")\n",
    "    arr = np.dstack((arr1,arr2))\n",
    "    print(arr)\n",
    "    \n",
    "join_function()"
   ]
  },
  {
   "cell_type": "code",
   "execution_count": 21,
   "metadata": {},
   "outputs": [
    {
     "name": "stdout",
     "output_type": "stream",
     "text": [
      "Split 1-D array in 3 parts: \n",
      "[array([1, 2]), array([3, 4]), array([5, 6])]\n",
      "[1 2]\n",
      "[3 4]\n",
      "[5 6]\n",
      "-----\n",
      "Split the 2-D array into three 2-D arrays:\n",
      "[array([[1, 2, 3]]), array([[4, 5, 6]]), array([[7, 8, 9]])]\n",
      "Split the 2-D array into three 2-D arrays along rows:\n",
      "[array([[1],\n",
      "       [4],\n",
      "       [7]]), array([[2],\n",
      "       [5],\n",
      "       [8]]), array([[3],\n",
      "       [6],\n",
      "       [9]])]\n"
     ]
    }
   ],
   "source": [
    "def split_function():\n",
    "    print(\"Split 1-D array in 3 parts: \")\n",
    "    arr = np.array([1,2,3,4,5,6])\n",
    "    newarr = np.array_split(arr,3)\n",
    "    print(newarr)\n",
    "    print(newarr[0])\n",
    "    print(newarr[1])\n",
    "    print(newarr[2])\n",
    "    \n",
    "    print(\"-----\")\n",
    "    arr = np.array([[1,2,3],[4,5,6],[7,8,9]])\n",
    "    print(\"Split the 2-D array into three 2-D arrays:\")\n",
    "    newarr = np.array_split(arr,3)\n",
    "    print(newarr)\n",
    "    print(\"Split the 2-D array into three 2-D arrays along rows:\")\n",
    "    newarr = np.array_split(arr,3,axis=1)\n",
    "    print(newarr)\n",
    "\n",
    "split_function()"
   ]
  },
  {
   "cell_type": "code",
   "execution_count": 23,
   "metadata": {},
   "outputs": [
    {
     "name": "stdout",
     "output_type": "stream",
     "text": [
      "The indexes where the value is 4: \n",
      "(array([3, 5, 6]),)\n",
      "The indexes where the values are odd:\n",
      "(array([0, 2, 4]),)\n",
      "The indexes where the value 7 should be inserted: \n",
      "1\n",
      "The indexes where the value 7 should be inserted, starting from the right: \n",
      "2\n",
      "The indexes where multiple values should be inserted:\n",
      "[1 2 3]\n"
     ]
    }
   ],
   "source": [
    "def search_function():\n",
    "    arr = np.array([1,2,3,4,5,4,4])\n",
    "    print(\"The indexes where the value is 4: \")\n",
    "    x= np.where(arr ==4)\n",
    "    print(x)\n",
    "    \n",
    "    print(\"The indexes where the values are odd:\")\n",
    "    x = np.where(arr%2==1)\n",
    "    print(x)\n",
    "    \n",
    "    arr = np.array([6,7,8,9])\n",
    "    print(\"The indexes where the value 7 should be inserted: \")\n",
    "    x = np.searchsorted(arr,7)\n",
    "    print(x)\n",
    "    \n",
    "    print(\"The indexes where the value 7 should be inserted, starting from the right: \")\n",
    "    x = np.searchsorted(arr,7,side='right')\n",
    "    print(x)\n",
    "    \n",
    "    print(\"The indexes where multiple values should be inserted:\")\n",
    "    arr = np.array([1,3,5,7])\n",
    "    x = np.searchsorted(arr,[2,4,6])\n",
    "    print(x)\n",
    "    \n",
    "search_function()"
   ]
  },
  {
   "cell_type": "code",
   "execution_count": 24,
   "metadata": {},
   "outputs": [
    {
     "name": "stdout",
     "output_type": "stream",
     "text": [
      "Sort numeric array:\n",
      "[0 1 2 3]\n",
      "Sort string array:\n",
      "['apple' 'bnana' 'cherry']\n",
      "Sort boolean array:\n",
      "[False  True  True]\n",
      "Sort 2-D array:\n",
      "[[2 3 4]\n",
      " [0 1 5]]\n"
     ]
    }
   ],
   "source": [
    "def sort_function():\n",
    "    print(\"Sort numeric array:\")\n",
    "    arr = np.array([3,2,0,1])\n",
    "    print(np.sort(arr))\n",
    "    \n",
    "    print(\"Sort string array:\")\n",
    "    arr = np.array(['bnana','cherry','apple'])\n",
    "    print(np.sort(arr))\n",
    "    \n",
    "    print(\"Sort boolean array:\")\n",
    "    arr = np.array([True, False, True])\n",
    "    print(np.sort(arr))\n",
    "    \n",
    "    print(\"Sort 2-D array:\")\n",
    "    arr = np.array([[3,2,4],[5,0,1]])\n",
    "    print(np.sort(arr))\n",
    "    \n",
    "sort_function()"
   ]
  },
  {
   "cell_type": "code",
   "execution_count": 26,
   "metadata": {},
   "outputs": [
    {
     "name": "stdout",
     "output_type": "stream",
     "text": [
      "Generate a random integer from 0 to 100: \n",
      "Generate a random float from 0 to 1: \n",
      "0.9716633473299956\n",
      "Generate a 1-D array containing 5 random integers from 0 to 100: \n",
      "[56 18 21 74 49]\n",
      "Generate a 2-D array with 3 rows, each row containing 5 random integers from 0 to 100:\n",
      "[[93 48 61 17 53]\n",
      " [30 61 70 34 39]\n",
      " [ 9 18 71  2 52]]\n",
      "Generate a 1-D array containing 5 random floats:\n",
      "[0.14942737 0.00921923 0.2263519  0.81694408 0.17276976]\n",
      "Generate a 2-D array with 3 rows, each row containing 5 random numbers: \n",
      "[[0.09275237 0.3085184  0.19596583 0.59247683 0.68422927]\n",
      " [0.96735486 0.80103133 0.28283616 0.27100849 0.32170297]\n",
      " [0.63440882 0.59380554 0.84191676 0.05142233 0.63234633]]\n",
      "Return one of the values in an array:  9\n",
      "Generate a 2-D array that consists of the values in the array parameter (3,5,7, and 9):  [[7 5 5 9 5]\n",
      " [7 5 5 7 7]\n",
      " [5 5 5 9 5]]\n"
     ]
    }
   ],
   "source": [
    "from numpy import random\n",
    "def random_numbers():\n",
    "    print(\"Generate a random integer from 0 to 100: \")\n",
    "    x = random.randint(100)\n",
    "    \n",
    "    print(\"Generate a random float from 0 to 1: \")\n",
    "    x = random.rand()\n",
    "    print(x)\n",
    "    \n",
    "    print(\"Generate a 1-D array containing 5 random integers from 0 to 100: \")\n",
    "    x = random.randint(100,size=(5))\n",
    "    print(x)\n",
    "    \n",
    "    print(\"Generate a 2-D array with 3 rows, each row containing 5 random integers from 0 to 100:\")\n",
    "    x = random.randint(100, size=(3,5))\n",
    "    print(x)\n",
    "    \n",
    "    print(\"Generate a 1-D array containing 5 random floats:\")\n",
    "    x = random.rand(5)\n",
    "    print(x)\n",
    "    \n",
    "    print(\"Generate a 2-D array with 3 rows, each row containing 5 random numbers: \")\n",
    "    x = random.rand(3,5)\n",
    "    print(x)\n",
    "    \n",
    "    x = random.choice([3,5,7,9])\n",
    "    print(\"Return one of the values in an array: \", x)\n",
    "    \n",
    "    x = random.choice([3,5,7,9], size=(3,5))\n",
    "    print(\"Generate a 2-D array that consists of the values in the array parameter (3,5,7, and 9): \",x)\n",
    "    \n",
    "random_numbers()"
   ]
  },
  {
   "cell_type": "code",
   "execution_count": 27,
   "metadata": {},
   "outputs": [
    {
     "name": "stdout",
     "output_type": "stream",
     "text": [
      "[5 3 4 2 1]\n",
      "[4 1 5 2 3]\n"
     ]
    }
   ],
   "source": [
    "def random_permutations():\n",
    "    arr = np.array([1,2,3,4,5])\n",
    "    random.shuffle(arr)\n",
    "    print(arr)\n",
    "    arr = np.array([1,2,3,4,5])\n",
    "    print(random.permutation(arr))\n",
    "\n",
    "random_permutations()"
   ]
  },
  {
   "cell_type": "markdown",
   "metadata": {},
   "source": [
    "# Pandas"
   ]
  },
  {
   "cell_type": "code",
   "execution_count": 29,
   "metadata": {},
   "outputs": [],
   "source": [
    "import pandas as pd"
   ]
  },
  {
   "cell_type": "code",
   "execution_count": 30,
   "metadata": {},
   "outputs": [
    {
     "name": "stdout",
     "output_type": "stream",
     "text": [
      "0     1\n",
      "1    10\n",
      "2     5\n",
      "dtype: int64\n",
      "1st value:  1\n",
      "2nd value:  10\n",
      "-----\n",
      "Naming the labels: \n",
      "x     1\n",
      "y    10\n",
      "z     5\n",
      "dtype: int64\n",
      "The value of y :  10\n"
     ]
    }
   ],
   "source": [
    "def pandas_series():\n",
    "    a = [1,10,5]\n",
    "    SimpleSeries = pd.Series(a)\n",
    "    print(SimpleSeries)\n",
    "    print(\"1st value: \",SimpleSeries[0])\n",
    "    print(\"2nd value: \",SimpleSeries[1])\n",
    "    \n",
    "    print(\"-----\")\n",
    "    NamedSeries = pd.Series(a, index = [\"x\",\"y\",\"z\"])\n",
    "    print(\"Naming the labels: \")\n",
    "    print(NamedSeries)\n",
    "    print(\"The value of y : \", NamedSeries[\"y\"])\n",
    "    \n",
    "pandas_series()"
   ]
  },
  {
   "cell_type": "code",
   "execution_count": 32,
   "metadata": {},
   "outputs": [
    {
     "name": "stdout",
     "output_type": "stream",
     "text": [
      "   calories  duration\n",
      "0       420        50\n",
      "1       380        40\n",
      "2       390        45\n",
      "Row 0 :\n",
      "calories    420\n",
      "duration     50\n",
      "Name: 0, dtype: int64\n",
      "Row 1 :\n",
      "calories    380\n",
      "duration     40\n",
      "Name: 1, dtype: int64\n",
      "Row 0 and 1 :\n",
      "   calories  duration\n",
      "0       420        50\n",
      "1       380        40\n",
      "      calories  duration\n",
      "day1       420        50\n",
      "day2       380        40\n",
      "day3       390        45\n",
      "day2: \n",
      "calories    380\n",
      "duration     40\n",
      "Name: day2, dtype: int64\n",
      "The first 5 rows: \n",
      "   Duration  Pulse  Maxpulse  Calories\n",
      "0        60    110       130     409.1\n",
      "1        60    117       145     479.0\n",
      "2        60    103       135     340.0\n",
      "3        45    109       175     282.4\n",
      "4        45    117       148     406.0\n",
      "\n",
      "\n",
      "The last 5 rows: \n",
      "     Duration  Pulse  Maxpulse  Calories\n",
      "164        60    105       140     290.8\n",
      "165        60    110       145     300.0\n",
      "166        60    115       145     310.2\n",
      "167        75    120       150     320.4\n",
      "168        75    125       150     330.4\n",
      "\n",
      "\n",
      "Information about the data: \n",
      "<class 'pandas.core.frame.DataFrame'>\n",
      "RangeIndex: 169 entries, 0 to 168\n",
      "Data columns (total 4 columns):\n",
      "Duration    169 non-null int64\n",
      "Pulse       169 non-null int64\n",
      "Maxpulse    169 non-null int64\n",
      "Calories    164 non-null float64\n",
      "dtypes: float64(1), int64(3)\n",
      "memory usage: 5.4 KB\n",
      "None\n"
     ]
    }
   ],
   "source": [
    "def pandas_dataframe():\n",
    "    data = {\"calories\":[420,380,390],\"duration\":[50,40,45]}\n",
    "    #load data into a DataFrame object:\n",
    "    df = pd.DataFrame(data)\n",
    "    print(df)\n",
    "    print(\"Row 0 :\")\n",
    "    print(df.loc[0])\n",
    "    print(\"Row 1 :\")\n",
    "    print(df.loc[1])\n",
    "    print(\"Row 0 and 1 :\")\n",
    "    print(df.loc[[0,1]])\n",
    "    #named indexes\n",
    "    df = pd.DataFrame(data,index = [\"day1\",\"day2\",\"day3\"])\n",
    "    print(df)\n",
    "    print(\"day2: \")\n",
    "    print(df.loc[\"day2\"])\n",
    "    \n",
    "    df = pd.read_csv('data.csv')\n",
    "    \n",
    "    print(\"The first 5 rows: \")\n",
    "    print(df.head())\n",
    "    \n",
    "    print(\"\\n\")\n",
    "    print(\"The last 5 rows: \")\n",
    "    print(df.tail())\n",
    "    \n",
    "    print(\"\\n\")\n",
    "    print(\"Information about the data: \")\n",
    "    print(df.info())\n",
    "    \n",
    "pandas_dataframe()"
   ]
  },
  {
   "cell_type": "code",
   "execution_count": null,
   "metadata": {},
   "outputs": [],
   "source": []
  },
  {
   "cell_type": "code",
   "execution_count": null,
   "metadata": {},
   "outputs": [],
   "source": []
  },
  {
   "cell_type": "code",
   "execution_count": null,
   "metadata": {},
   "outputs": [],
   "source": []
  },
  {
   "cell_type": "code",
   "execution_count": null,
   "metadata": {},
   "outputs": [],
   "source": []
  },
  {
   "cell_type": "code",
   "execution_count": null,
   "metadata": {},
   "outputs": [],
   "source": []
  },
  {
   "cell_type": "code",
   "execution_count": null,
   "metadata": {},
   "outputs": [],
   "source": []
  },
  {
   "cell_type": "code",
   "execution_count": null,
   "metadata": {},
   "outputs": [],
   "source": []
  },
  {
   "cell_type": "code",
   "execution_count": null,
   "metadata": {},
   "outputs": [],
   "source": []
  },
  {
   "cell_type": "code",
   "execution_count": null,
   "metadata": {},
   "outputs": [],
   "source": []
  },
  {
   "cell_type": "code",
   "execution_count": null,
   "metadata": {},
   "outputs": [],
   "source": []
  },
  {
   "cell_type": "code",
   "execution_count": null,
   "metadata": {},
   "outputs": [],
   "source": []
  }
 ],
 "metadata": {
  "kernelspec": {
   "display_name": "Python 3",
   "language": "python",
   "name": "python3"
  },
  "language_info": {
   "codemirror_mode": {
    "name": "ipython",
    "version": 3
   },
   "file_extension": ".py",
   "mimetype": "text/x-python",
   "name": "python",
   "nbconvert_exporter": "python",
   "pygments_lexer": "ipython3",
   "version": "3.7.4"
  }
 },
 "nbformat": 4,
 "nbformat_minor": 2
}
