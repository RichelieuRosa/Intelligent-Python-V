{
 "cells": [
  {
   "cell_type": "code",
   "execution_count": 4,
   "id": "6600420f",
   "metadata": {},
   "outputs": [
    {
     "name": "stdout",
     "output_type": "stream",
     "text": [
      "Labels:  [1 1 1 0 0 0]\n",
      "Cluster centers:  [[10.  2.]\n",
      " [ 1.  2.]]\n",
      "Predicted class:  [1 0]\n"
     ]
    }
   ],
   "source": [
    "from sklearn import metrics\n",
    "from sklearn.metrics import pairwise_distances\n",
    "from sklearn import datasets\n",
    "from sklearn.cluster import KMeans\n",
    "import numpy as np\n",
    "\n",
    "def kmeanalgor():\n",
    "    \n",
    "    X = np.array([[1,2],[1,4],[1,0],[10,2],[10,4],[10,0]])\n",
    "    kmeans = KMeans(n_clusters = 2, random_state = 0).fit(X)\n",
    "    labels = kmeans.labels_\n",
    "    centers = kmeans.cluster_centers_\n",
    "    predicted = kmeans.predict([[0,0],[12,3]])\n",
    "    print(\"Labels: \",labels)\n",
    "    print(\"Cluster centers: \", centers)\n",
    "    print(\"Predicted class: \",predicted)\n",
    "    \n",
    "kmeanalgor()"
   ]
  },
  {
   "cell_type": "code",
   "execution_count": 5,
   "id": "42c349db",
   "metadata": {},
   "outputs": [
    {
     "name": "stdout",
     "output_type": "stream",
     "text": [
      "Rand_index:  0.6666666666666666\n",
      "Adjusted_rand_index:  0.24242424242424243\n"
     ]
    }
   ],
   "source": [
    "from sklearn import metrics\n",
    "\n",
    "def RandIndex():\n",
    "    \n",
    "    labels_true = [0,0,0,1,1,1]\n",
    "    labels_pred = [0,0,1,1,2,2]\n",
    "    \n",
    "    rand_index = metrics.rand_score(labels_true, labels_pred)\n",
    "    adjusted_rand_index = metrics.adjusted_rand_score(labels_true, labels_pred)\n",
    "    print(\"Rand_index: \",rand_index)\n",
    "    print(\"Adjusted_rand_index: \", adjusted_rand_index)\n",
    "    \n",
    "RandIndex()"
   ]
  },
  {
   "cell_type": "code",
   "execution_count": 6,
   "id": "c0e9ddd1",
   "metadata": {},
   "outputs": [
    {
     "name": "stdout",
     "output_type": "stream",
     "text": [
      "Adjusted Mutual Info Score:  0.2987924581708901\n",
      "Normalized Mutual Info Score:  0.5158037429793889\n",
      "Mutual Info Score:  0.4620981203732969\n"
     ]
    }
   ],
   "source": [
    "def MutualInfo():\n",
    "    \n",
    "    labels_true = [0,0,0,1,1,1]\n",
    "    labels_pred = [0,0,1,1,2,2]\n",
    "    \n",
    "    ami = metrics.adjusted_mutual_info_score(labels_true,labels_pred)\n",
    "    nmi = metrics.normalized_mutual_info_score(labels_true,labels_pred)\n",
    "    mis = metrics.mutual_info_score(labels_true, labels_pred)\n",
    "    \n",
    "    print(\"Adjusted Mutual Info Score: \", ami)\n",
    "    print(\"Normalized Mutual Info Score: \", nmi)\n",
    "    print(\"Mutual Info Score: \",mis)\n",
    "    \n",
    "MutualInfo()"
   ]
  },
  {
   "cell_type": "code",
   "execution_count": 7,
   "id": "2a24e911",
   "metadata": {},
   "outputs": [
    {
     "name": "stdout",
     "output_type": "stream",
     "text": [
      "Homogeneity Score:  0.6666666666666669\n",
      "Completeness Score:  0.420619835714305\n",
      "V_measure Score:  0.5158037429793889\n",
      "Homogeneity, comleteness, and V-measure:  (0.6666666666666669, 0.420619835714305, 0.5158037429793889)\n"
     ]
    }
   ],
   "source": [
    "def Multiscores():\n",
    "    \n",
    "    labels_true = [0,0,0,1,1,1]\n",
    "    labels_pred = [0,0,1,1,2,2]\n",
    "    \n",
    "    h = metrics.homogeneity_score(labels_true, labels_pred)\n",
    "    c = metrics.completeness_score(labels_true, labels_pred)\n",
    "    v = metrics.v_measure_score(labels_true, labels_pred)\n",
    "    hcv = metrics.homogeneity_completeness_v_measure(labels_true, labels_pred)\n",
    "    \n",
    "    print(\"Homogeneity Score: \", h)\n",
    "    print(\"Completeness Score: \", c)\n",
    "    print(\"V_measure Score: \", v)\n",
    "    print(\"Homogeneity, comleteness, and V-measure: \", hcv)\n",
    "    \n",
    "Multiscores()"
   ]
  },
  {
   "cell_type": "code",
   "execution_count": 9,
   "id": "f697b27f",
   "metadata": {},
   "outputs": [
    {
     "name": "stdout",
     "output_type": "stream",
     "text": [
      "Fowlkes-Mallows score:  0.4714045207910317\n"
     ]
    }
   ],
   "source": [
    "def FMIscore():\n",
    "    \n",
    "    labels_true = [0,0,0,1,1,1]\n",
    "    labels_pred = [0,0,1,1,2,2]\n",
    "    \n",
    "    fmi = metrics.fowlkes_mallows_score(labels_true, labels_pred)\n",
    "    \n",
    "    print(\"Fowlkes-Mallows score: \", fmi)\n",
    "    \n",
    "FMIscore()"
   ]
  },
  {
   "cell_type": "code",
   "execution_count": 11,
   "id": "ba94e10e",
   "metadata": {},
   "outputs": [
    {
     "name": "stdout",
     "output_type": "stream",
     "text": [
      "Silhouette Score:  0.5528190123564091\n"
     ]
    }
   ],
   "source": [
    "def Silhouettescore():\n",
    "    \n",
    "    X,y = datasets.load_iris(return_X_y=True)\n",
    "    kmeans_model = KMeans(n_clusters=3, random_state=1).fit(X)\n",
    "    labels = kmeans_model.labels_\n",
    "    s = metrics.silhouette_score(X,labels)\n",
    "    print(\"Silhouette Score: \",s)\n",
    "\n",
    "Silhouettescore()"
   ]
  },
  {
   "cell_type": "code",
   "execution_count": 12,
   "id": "b6586a39",
   "metadata": {},
   "outputs": [
    {
     "name": "stdout",
     "output_type": "stream",
     "text": [
      "Calinski-Harabasz Score:  561.62775662962\n"
     ]
    }
   ],
   "source": [
    "def CHscore():\n",
    "    \n",
    "    X,y = datasets.load_iris(return_X_y=True)\n",
    "    kmeans_model = KMeans(n_clusters=3, random_state=1).fit(X)\n",
    "    labels = kmeans_model.labels_\n",
    "    ch = metrics.calinski_harabasz_score(X,labels)\n",
    "    print(\"Calinski-Harabasz Score: \",ch)\n",
    "\n",
    "CHscore()"
   ]
  },
  {
   "cell_type": "code",
   "execution_count": 13,
   "id": "9c0671a8",
   "metadata": {},
   "outputs": [
    {
     "name": "stdout",
     "output_type": "stream",
     "text": [
      "Davies Bouldin Score:  0.6619715465007528\n"
     ]
    }
   ],
   "source": [
    "def DBscore():\n",
    "    \n",
    "    X,y = datasets.load_iris(return_X_y=True)\n",
    "    kmeans_model = KMeans(n_clusters=3, random_state=1).fit(X)\n",
    "    labels = kmeans_model.labels_\n",
    "    db = metrics.davies_bouldin_score(X,labels)\n",
    "    print(\"Davies Bouldin Score: \",db)\n",
    "\n",
    "DBscore()"
   ]
  },
  {
   "cell_type": "code",
   "execution_count": 19,
   "id": "ae706c84",
   "metadata": {},
   "outputs": [],
   "source": [
    "from os import listdir\n",
    "from os.path import isfile, join\n",
    "import random\n",
    "\n",
    "def read_data(train_path_class0, train_path_class1,test_path_class0, test_path_class1):\n",
    "    #read X_train, Y_train\n",
    "    X_train_class0 = [f for f in listdir(train_path_class0) if isfile(join(train_path_class0,f))]\n",
    "    Y_train_class0 = [0]*len(X_train_class0)\n",
    "    X_train_class1 = [f for f in listdir(train_path_class1) if isfile(join(train_path_class1,f))]\n",
    "    Y_train_class1 = [0]*len(X_train_class1)\n",
    "    X_train = X_train_class0 + X_train_class1\n",
    "    Y_train = Y_train_class0 + Y_train_class1\n",
    "    \n",
    "    #shuffle X_train and Y_train\n",
    "    Z = list(zip(X_train, Y_train))\n",
    "    random.shuffle(Z)\n",
    "    X_train, Y_train = zip(*Z)\n",
    "    \n",
    "    #read X_test, Y_test\n",
    "    X_test_class0 = [f for f in listdir(test_path_class0) if isfile(join(test_path_class0,f))]\n",
    "    Y_test_class0 = [0]*len(X_test_class0)\n",
    "    X_test_class1 = [f for f in listdir(test_path_class1) if isfile(join(test_path_class1,f))]\n",
    "    Y_test_class1 = [0]*len(X_test_class1)\n",
    "    X_test = X_test_class0 + X_test_class1\n",
    "    Y_test = Y_test_class0 + Y_test_class1\n",
    "    \n",
    "    #shuffle X_test and Y_test\n",
    "    Z = list(zip(X_test, Y_test))\n",
    "    random.shuffle(Z)\n",
    "    X_test,Y_test = zip(*Z)\n",
    "    \n",
    "    return X_train, Y_train, X_test, Y_test\n",
    "\n",
    "train_path_class0 = \"C:/Users/Joseph Yau/Projects_Friday/11.12/20news-bydate/20news-bydate-train/alt.atheism\"\n",
    "\n",
    "train_path_class1 = \"C:/Users/Joseph Yau/Projects_Friday/11.12/20news-bydate/20news-bydate-train/comp.graphics\"\n",
    "\n",
    "test_path_class0 = \"C:/Users/Joseph Yau/Projects_Friday/11.12/20news-bydate/20news-bydate-test/alt.atheism\"\n",
    "\n",
    "test_path_class1 = \"C:/Users/Joseph Yau/Projects_Friday/11.12/20news-bydate/20news-bydate-test/comp.graphics\"\n",
    "\n",
    "X_train, Y_train, X_test, Y_test = read_data(train_path_class0, train_path_class1, test_path_class0, test_path_class1)"
   ]
  },
  {
   "cell_type": "code",
   "execution_count": 22,
   "id": "7f62ab9e",
   "metadata": {},
   "outputs": [
    {
     "name": "stdout",
     "output_type": "stream",
     "text": [
      "1.0\n"
     ]
    }
   ],
   "source": [
    "from sklearn.feature_extraction.text import CountVectorizer\n",
    "from sklearn.feature_extraction.text import TfidfTransformer\n",
    "from sklearn.naive_bayes import MultinomialNB\n",
    "from sklearn.metrics import accuracy_score\n",
    "\n",
    "def train(X_train, Y_trian, X_test, Y_test):\n",
    "    #Tokenizing the texts\n",
    "    count_vect = CountVectorizer()\n",
    "    X_train_counts = count_vect.fit_transform(X_train)\n",
    "    \n",
    "    #Calculate TfidfTransformer\n",
    "    tfidf_transformer = TfidfTransformer()\n",
    "    X_train_tfidf = tfidf_transformer.fit_transform(X_train_counts)\n",
    "    \n",
    "    #Learning\n",
    "    clf = MultinomialNB().fit(X_train_tfidf,Y_train)\n",
    "    \n",
    "    #Predicting\n",
    "    X_test_counts = count_vect.transform(X_test)\n",
    "    X_test_tfidf = tfidf_transformer.transform(X_test_counts)\n",
    "    Y_predicted = clf.predict(X_test_tfidf)\n",
    "    \n",
    "    print(accuracy_score(Y_test,Y_predicted))\n",
    "\n",
    "train(X_train, Y_train, X_test, Y_test)"
   ]
  },
  {
   "cell_type": "code",
   "execution_count": null,
   "id": "86ee81cf",
   "metadata": {},
   "outputs": [],
   "source": []
  }
 ],
 "metadata": {
  "kernelspec": {
   "display_name": "Python 3",
   "language": "python",
   "name": "python3"
  },
  "language_info": {
   "codemirror_mode": {
    "name": "ipython",
    "version": 3
   },
   "file_extension": ".py",
   "mimetype": "text/x-python",
   "name": "python",
   "nbconvert_exporter": "python",
   "pygments_lexer": "ipython3",
   "version": "3.8.8"
  }
 },
 "nbformat": 4,
 "nbformat_minor": 5
}
